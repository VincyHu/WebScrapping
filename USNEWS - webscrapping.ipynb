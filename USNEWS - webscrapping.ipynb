{
 "cells": [
  {
   "cell_type": "markdown",
   "metadata": {},
   "source": [
    "# Part 2 - Web Scrapping"
   ]
  },
  {
   "cell_type": "markdown",
   "metadata": {},
   "source": [
    "**This is my first tentative project to scrap information from the internet.**  \n",
    "Here, I want scrap the \"TOP STORIES\" in the left-side bar of the USNEWS main website. My targets include:  \n",
    "- news title \n",
    "- news link \n",
    "- the first 3 sentences of one of the story"
   ]
  },
  {
   "cell_type": "markdown",
   "metadata": {},
   "source": [
    "**My takeaway from this project are:**  \n",
    "- Learn to use BeautifulSoup package to connect, get content and select html element to locate the exact information I want\n",
    "- Lean to use NLTK package for NLP, locate the whole sentence in a large paragraph."
   ]
  },
  {
   "cell_type": "code",
   "execution_count": 2,
   "metadata": {},
   "outputs": [],
   "source": [
    "# importing the necessary packages for webscraping\n",
    "import requests\n",
    "from bs4 import BeautifulSoup\n",
    "import numpy as np"
   ]
  },
  {
   "cell_type": "code",
   "execution_count": 3,
   "metadata": {},
   "outputs": [],
   "source": [
    "# importing necessary NLP packages to detect the sentence\n",
    "import nltk \n",
    "import nltk.data"
   ]
  },
  {
   "cell_type": "code",
   "execution_count": 9,
   "metadata": {},
   "outputs": [],
   "source": [
    "###### Navigate to USNEWS url and parse the website \n",
    "# define the url of target website\n",
    "url = 'http://www.usnews.com'\n",
    "# provide the user agent to pretent a real visitor\n",
    "headers = {\n",
    "            # pretend I am a browser\n",
    "           'User-Agent':'Mozilla/5.0 (Windows NT 10.0; Win64; x64) AppleWebKit/537.36 (KHTML, like Gecko) Chrome/75.0.3770.142 Safari/537.36'\n",
    "}\n",
    "# open a new session\n",
    "session = requests.Session()\n",
    "# log on to session and get content\n",
    "response_usnews = session.get(url,headers=headers)\n",
    "# parse the website and save the text\n",
    "soup = BeautifulSoup(response_usnews.text, 'html.parser')\n",
    "#coverpage = response_usnews.content"
   ]
  },
  {
   "cell_type": "code",
   "execution_count": 10,
   "metadata": {},
   "outputs": [],
   "source": [
    "# Find all the \"h3\" elemnets to locate the_second_current top story\n",
    "coverpage_news = soup.find_all('h3'\n",
    "                               #, class_='story-headline sc-gipzik ktkHzo'\n",
    "                              )"
   ]
  },
  {
   "cell_type": "code",
   "execution_count": 11,
   "metadata": {},
   "outputs": [
    {
     "name": "stdout",
     "output_type": "stream",
     "text": [
      "Top Stories:\n",
      " 1.West Treads Lightly With Iran After Jet Crash\n",
      " 2.U.K. Poised for Jan. 31 Exit from EU\n"
     ]
    }
   ],
   "source": [
    "#  the_second_ current top story is the sixth element of the list\n",
    "print(\"Top Stories:\"\n",
    "      +\"\\n 1.\"+coverpage_news[4].get_text()\n",
    "      +\"\\n 2.\"+coverpage_news[5].get_text()\n",
    "     )"
   ]
  },
  {
   "cell_type": "code",
   "execution_count": 12,
   "metadata": {},
   "outputs": [
    {
     "name": "stdout",
     "output_type": "stream",
     "text": [
      "https://www.usnews.com/news/world-report/articles/2020-01-09/west-backs-off-of-blaming-iran-despite-evidence-in-ukraine-jet-crash\n",
      "https://www.usnews.com/news/national-news/articles/2020-01-09/brexit-bill-clears-key-hurdle-uk-poised-for-jan-31-exit-from-european-union\n"
     ]
    }
   ],
   "source": [
    "# Get the url element of the first top story\n",
    "url1 = coverpage_news[4].find_all('a')[0]\n",
    "# Get the url element of the second top story\n",
    "url2 = coverpage_news[5].find_all('a')[0]\n",
    "# Get the url of the first top story\n",
    "first_story_url = url1.get('href')\n",
    "# Get the url of the second top story\n",
    "second_story_url = url2.get('href')\n",
    "# print the url of the first top story\n",
    "print(first_story_url)\n",
    "# print the url of the second top story\n",
    "print(second_story_url)"
   ]
  },
  {
   "cell_type": "code",
   "execution_count": 13,
   "metadata": {},
   "outputs": [],
   "source": [
    "# Navigate to the second story url\n",
    "# define the url of target website\n",
    "url2 =second_story_url\n",
    "# provide the user agent to pretent a real visitor\n",
    "headers = {\n",
    "            # pretend I am a browser\n",
    "            'User-Agent': 'Mozilla/5.0 (Windows NT 10.0; Win64; x64) AppleWebKit/537.36 (KHTML, like Gecko) Chrome/76.0.3809.87 Safari/537.36'\n",
    "             }\n",
    "\n",
    "# open a new session\n",
    "session = requests.Session()\n",
    "# log on to session and get content\n",
    "response_second_story = session.get(url2,headers=headers)\n",
    "# parse the website and save the text\n",
    "soup2 = BeautifulSoup(response_second_story.text, 'html.parser')\n",
    "#coverpage = response_second_story.content"
   ]
  },
  {
   "cell_type": "code",
   "execution_count": 14,
   "metadata": {},
   "outputs": [
    {
     "name": "stdout",
     "output_type": "stream",
     "text": [
      "Brexit Bill Clears Key Hurdle, U.K. Poised for Jan. 31 Exit from European Union\n"
     ]
    }
   ],
   "source": [
    "# Get the title of the article\n",
    "print(soup2.find('h1').get_text())"
   ]
  },
  {
   "cell_type": "code",
   "execution_count": 15,
   "metadata": {},
   "outputs": [
    {
     "data": {
      "text/plain": [
       "'The United Kingdom is poised to leave the European Union on Jan. 31 after British lawmakers Thursday gave final approval to Prime Minister Boris Johnson\\'s Brexit bill.  The measure passed the House of Commons easily and without fanfare in an anticlimactic end to a chaotic, yearslong saga that began after U.K. citizens narrowly voted to leave the EU in 2016.  The withdrawal bill\\'s passage was expected: Lawmakers gave it initial approval in December after a general election that Johnson\\'s Conservative Party won decisively, picking up 66 seats in Parliament. Though the measure now heads to the House of Lords, Thursday\\'s vote essentially guarantees that Brexit will happen at the end of the month.  Parliament refused three times to pass former Prime Minister Theresa May\\'s Brexit bill, ultimately leading to her resignation. Lawmakers also declined to pass Johnson\\'s Brexit bill this fall, prompting him to call for an election.  Johnson\\'s Brexit bill is similar to May\\'s but replaces a provision known as the \"Irish backstop\" with what is essentially a customs border in the Irish sea, between Northern Ireland and the rest of the U.K.  The bill also provides for an 11-month transition period during which the U.K. will no longer be an EU member but will continue to follow its rules. The entities are expected to continue negotiations during that period, including those over the U.K.\\'s future trade relationship with the bloc.  '"
      ]
     },
     "execution_count": 15,
     "metadata": {},
     "output_type": "execute_result"
    }
   ],
   "source": [
    "# Get the first three sentence of the article.To do this, we will utilize NLP package \"nltk\" to detect the text as a sentence, then extract the first sentence  \n",
    "## First, get the whole news paragraph.\n",
    "body = soup2.find_all('div', class_='Raw-s14xcvr1-0 AXWJq')\n",
    "\n",
    "## Create a new_contents text element to append the paragraph by loop\n",
    "news_contents = \"\"\n",
    "\n",
    "## Perform loop to get each paragraph \n",
    "for i in np.arange(0, len(body)):\n",
    "    paragraph = body[i].find('p').get_text()\n",
    "    news_contents = news_contents+paragraph+\" \"\n",
    "\n",
    "news_contents"
   ]
  },
  {
   "cell_type": "code",
   "execution_count": 16,
   "metadata": {},
   "outputs": [
    {
     "data": {
      "text/plain": [
       "[\"The United Kingdom is poised to leave the European Union on Jan. 31 after British lawmakers Thursday gave final approval to Prime Minister Boris Johnson's Brexit bill.\",\n",
       " 'The measure passed the House of Commons easily and without fanfare in an anticlimactic end to a chaotic, yearslong saga that began after U.K. citizens narrowly voted to leave the EU in 2016.',\n",
       " \"The withdrawal bill's passage was expected: Lawmakers gave it initial approval in December after a general election that Johnson's Conservative Party won decisively, picking up 66 seats in Parliament.\"]"
      ]
     },
     "execution_count": 16,
     "metadata": {},
     "output_type": "execute_result"
    }
   ],
   "source": [
    "## Then, apply the split sentence function to the paragraph to extract the first three sentences.\n",
    "nltk.sent_tokenize(news_contents)[0:3]"
   ]
  }
 ],
 "metadata": {
  "kernelspec": {
   "display_name": "Python 3",
   "language": "python",
   "name": "python3"
  },
  "language_info": {
   "codemirror_mode": {
    "name": "ipython",
    "version": 3
   },
   "file_extension": ".py",
   "mimetype": "text/x-python",
   "name": "python",
   "nbconvert_exporter": "python",
   "pygments_lexer": "ipython3",
   "version": "3.7.3"
  }
 },
 "nbformat": 4,
 "nbformat_minor": 2
}
